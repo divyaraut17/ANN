{
  "nbformat": 4,
  "nbformat_minor": 0,
  "metadata": {
    "colab": {
      "provenance": [],
      "authorship_tag": "ABX9TyPVPukFNKURMa/RmorGpAiT",
      "include_colab_link": true
    },
    "kernelspec": {
      "name": "python3",
      "display_name": "Python 3"
    },
    "language_info": {
      "name": "python"
    }
  },
  "cells": [
    {
      "cell_type": "markdown",
      "metadata": {
        "id": "view-in-github",
        "colab_type": "text"
      },
      "source": [
        "<a href=\"https://colab.research.google.com/github/divyaraut17/ANN/blob/main/EXp_2b.ipynb\" target=\"_parent\"><img src=\"https://colab.research.google.com/assets/colab-badge.svg\" alt=\"Open In Colab\"/></a>"
      ]
    },
    {
      "cell_type": "code",
      "execution_count": null,
      "metadata": {
        "id": "yIzzGKJ-j3zW"
      },
      "outputs": [],
      "source": [
        "mport numpy as np\n",
        "import matplotlib.pyplot as plt\n",
        "\n",
        "# Step 1: Define the hypothesis function\n",
        "def hypothesis(theta, X):\n",
        "    return np.dot(X, theta)\n",
        "\n",
        "# Step 2: Define the cost function (Mean Squared Error)\n",
        "def compute_cost(X, y, theta):\n",
        "    m = len(y)\n",
        "    predictions = hypothesis(theta, X)\n",
        "    cost = (1 / (2 * m)) * np.sum((predictions - y) ** 2)\n",
        "    return cost\n",
        "\n",
        "# Step 3: Gradient Descent function\n",
        "def gradient_descent(X, y, theta, learning_rate, iterations):\n",
        "    m = len(y)\n",
        "    cost_history = []\n",
        "\n",
        "    for i in range(iterations):\n",
        "        # Compute the gradient\n",
        "        predictions = hypothesis(theta, X)\n",
        "        error = predictions - y\n",
        "        gradient = (1 / m) * np.dot(X.T, error)\n",
        "\n",
        "        # Update the parameters\n",
        "        theta = theta - learning_rate * gradient\n",
        "        cost_history.append(compute_cost(X, y, theta))\n",
        "\n",
        "    return theta, cost_history\n",
        "\n",
        "# Step 4: Prepare the data\n",
        "def prepare_data(altitudes, temperatures):\n",
        "    # Add a column of ones for the intercept term (theta_0)\n",
        "    X = np.ones((len(altitudes), 2))\n",
        "    X[:, 1] = altitudes\n",
        "    y = temperatures\n",
        "    return X, y\n",
        "\n",
        "# Step 5: Main function to run the algorithm\n",
        "def main():\n",
        "    # Example dataset: altitudes (in meters) and temperatures (in Celsius)\n",
        "    altitudes = np.array([100, 500, 1000, 1500, 2000, 2500, 3000, 3500, 4000])\n",
        "    temperatures = np.array([15, 12, 9, 7, 5, 3, 2, 1, 0])\n",
        "\n",
        "    # Prepare the data\n",
        "    X, y = prepare_data(altitudes, temperatures)\n",
        "\n",
        "    # Initial parameters (theta_0 and theta_1)\n",
        "    theta = np.zeros(2)\n",
        "\n",
        "    # Hyperparameters\n",
        "    learning_rate = 0.01\n",
        "    iterations = 1000\n",
        "\n",
        "    # Run gradient descent to learn theta values\n",
        "    theta, cost_history = gradient_descent(X, y, theta, learning_rate, iterations)\n",
        "\n",
        "    # Output the learned parameters\n",
        "    print(f\"Learned parameters: theta_0 = {theta[0]}, theta_1 = {theta[1]}\")\n",
        "\n",
        "    # Plot the cost history\n",
        "    plt.plot(range(iterations), cost_history)\n",
        "    plt.xlabel('Iterations')\n",
        "    plt.ylabel('Cost')\n",
        "    plt.title('Cost Function Convergence')\n",
        "    plt.show()\n",
        "\n",
        "    # Predict temperature at a new altitude (e.g., 1500 meters)\n",
        "    new_altitude = 1500 # Fixed: Removed extra indentation\n",
        "    predicted_temp = hypothesis(theta, np.array([1, new_altitude]))\n",
        "    print(f\"Predicted temperature at {new_altitude} meters: {predicted_temp[0]}°C\")"
      ]
    }
  ]
}