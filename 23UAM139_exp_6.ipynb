{
  "nbformat": 4,
  "nbformat_minor": 0,
  "metadata": {
    "colab": {
      "provenance": [],
      "authorship_tag": "ABX9TyPUSwjIC/ePj7XD4lhgv1XO",
      "include_colab_link": true
    },
    "kernelspec": {
      "name": "python3",
      "display_name": "Python 3"
    },
    "language_info": {
      "name": "python"
    }
  },
  "cells": [
    {
      "cell_type": "markdown",
      "metadata": {
        "id": "view-in-github",
        "colab_type": "text"
      },
      "source": [
        "<a href=\"https://colab.research.google.com/github/divyaraut17/ANN/blob/main/23UAM139_exp_6.ipynb\" target=\"_parent\"><img src=\"https://colab.research.google.com/assets/colab-badge.svg\" alt=\"Open In Colab\"/></a>"
      ]
    },
    {
      "cell_type": "code",
      "execution_count": null,
      "metadata": {
        "id": "zKBbPIgZpeOd"
      },
      "outputs": [],
      "source": [
        "# Implement Backpropagation in a Simple MLP\n",
        "\n",
        "\n",
        "import numpy as np\n",
        "\n",
        "def sigmoid_function(x):\n",
        "  return 1/(1+np.exp(-x))\n",
        "\n",
        "def derivative(x):\n",
        "  return x*(1-x)\n",
        "\n",
        "#take inputs\n",
        "x1 = 0.4\n",
        "x2 = 0.8\n",
        "\n",
        "#actual output\n",
        "y_actual = 1\n",
        "\n",
        "#take weight and biases\n",
        "w1,w2,w3,w4 = np.random.rand(4)\n",
        "b1,b2 = np.random.rand(2)\n",
        "\n",
        "learning_rate = 0.1\n",
        "epochs = 100\n",
        "losses = []\n",
        "iterations =0\n",
        "\n",
        "for iterations in range(epochs):\n",
        "  #forward propagation\n",
        "  # for hidden layer\n",
        "  z_hid = w1*x1 + w2*x2 + b1\n",
        "  h = sigmoid_function(z_hid)\n",
        "\n",
        "  #for output layer\n",
        "  z_out = w3*h + w4*h + b2\n",
        "  y_pred = sigmoid_function(z_out)\n",
        "\n",
        "  #error calculation\n",
        "  # The original line was trying to call a float as a function.\n",
        "  # Corrected line to perform multiplication:\n",
        "  E = (1/2)*(y_actual - y_pred)*2\n",
        "  losses.append(E)\n",
        "\n",
        "  #Backpropagation\n",
        "  dE_dypred = -(y_actual - y_pred)\n",
        "  dypred_dh = derivative(y_pred)*(w3 + w4)\n",
        "  dh_dw1 = derivative(h)*x1\n",
        "  dh_dw2 = derivative(h)*x2\n",
        "\n",
        "  #gradients calculation\n",
        "  dw3 = dE_dypred * derivative(y_pred)*h\n",
        "  dw4 = dE_dypred * derivative(y_pred)*h\n",
        "  dw1 = dE_dypred * dypred_dh * dh_dw1\n",
        "  dw2 = dE_dypred * dypred_dh * dh_dw2\n",
        "  # db1 = dE_dypred * dypred_dh * derivative(h)\n",
        "  # db2 = dE_dypred * derivative(y_pred)\n",
        "\n",
        "  #update weight and bias\n",
        "  w1 = w1 - learning_rate*dw1\n",
        "  w2 = w2 - learning_rate*dw2\n",
        "  w3 = w3 - learning_rate*dw3\n",
        "  w4 = w4 - learning_rate*dw4\n",
        "  d1 = b1 - learning_rate*dw1\n",
        "  d2 = b2 - learning_rate*dw2\n",
        "\n",
        "\n",
        "\n",
        "  if iterations % 100 == iterations:\n",
        "    iterations = iterations +1\n",
        "    print(f\"Epochs: {iterations}, Loss: {E}\")\n",
        "  iterations += 1"
      ]
    }
  ]
}