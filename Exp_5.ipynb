{
  "nbformat": 4,
  "nbformat_minor": 0,
  "metadata": {
    "colab": {
      "provenance": [],
      "authorship_tag": "ABX9TyMhUZNxbW1iAFByr9Y5F+Of",
      "include_colab_link": true
    },
    "kernelspec": {
      "name": "python3",
      "display_name": "Python 3"
    },
    "language_info": {
      "name": "python"
    }
  },
  "cells": [
    {
      "cell_type": "markdown",
      "metadata": {
        "id": "view-in-github",
        "colab_type": "text"
      },
      "source": [
        "<a href=\"https://colab.research.google.com/github/divyaraut17/ANN/blob/main/Exp_5.ipynb\" target=\"_parent\"><img src=\"https://colab.research.google.com/assets/colab-badge.svg\" alt=\"Open In Colab\"/></a>"
      ]
    },
    {
      "cell_type": "code",
      "execution_count": null,
      "metadata": {
        "colab": {
          "base_uri": "https://localhost:8080/"
        },
        "id": "7pre-smcQxH1",
        "outputId": "08f3ed3b-a13e-4cdf-f1ee-455022dd4bde"
      },
      "outputs": [
        {
          "output_type": "stream",
          "name": "stdout",
          "text": [
            "Layer Dimensions: [2, 2, 1]\n",
            "Total No. of layers in NN 3\n",
            "{'W1': array([[0.1, 0.1],\n",
            "       [0.1, 0.1]]), 'b1': array([[0.],\n",
            "       [0.]]), 'W2': array([[0.1],\n",
            "       [0.1]]), 'b2': array([[0.]])}\n",
            "Layer Dimensions: [2, 2, 1]\n",
            "Total No. of layers in NN 3\n",
            "\n",
            " {'W1': array([[0.1, 0.1],\n",
            "       [0.1, 0.1]]), 'b1': array([[0.],\n",
            "       [0.]]), 'W2': array([[0.1],\n",
            "       [0.1]]), 'b2': array([[0.]])}\n",
            "Final output:\n",
            "[[0.32]]\n"
          ]
        }
      ],
      "source": [
        "import numpy as np\n",
        "import pandas as pd\n",
        "# Creating a dataset\n",
        "df = pd.DataFrame([[8, 8, 4], [7, 9, 5], [6, 10, 6], [5, 12, 7]],\n",
        "columns=['cgpa', 'profile_score', 'lpa'])\n",
        "# Initializing parameters\n",
        "def initialize_parameters(layer_dims):\n",
        "    np.random.seed(3)\n",
        "    print(\"Layer Dimensions:\", layer_dims)\n",
        "    parameters = {}\n",
        "    L = len(layer_dims) # Fixed: Removed the non-printable character and properly indented the line\n",
        "    print(\"Total No. of layers in NN\",L)\n",
        "    for i in range(1, L):\n",
        "        parameters['W' + str(i)] = np.ones((layer_dims[i-1],\n",
        "                                          layer_dims[i])) * 0.1\n",
        "        parameters['b' + str(i)] = np.zeros((layer_dims[i], 1))\n",
        "    return parameters\n",
        "layer_dims = [2, 2, 1]  # 2 inputs, 2 hidden neurons, 1 output neuron\n",
        "parameters = initialize_parameters(layer_dims)\n",
        "print(parameters)\n",
        "# Forward propagation\n",
        "def linear_forward(A_prev, W, b):\n",
        "    Z = np.dot(W.T, A_prev) + b\n",
        "    #print(Z)\n",
        "    return Z\n",
        "def relu(Z): # Fixed: Properly indented the relu function\n",
        "    return np.maximum(0, Z)\n",
        "def L_layer_forward(X, parameters):\n",
        "    A = X\n",
        "    caches = []\n",
        "    print(\"\\n\", parameters)\n",
        "    L = len(parameters) // 2\n",
        "    for i in range(1, L):\n",
        "        A_prev = A\n",
        "        W = parameters['W' + str(i)]\n",
        "        b = parameters['b' + str(i)]\n",
        "        Z = linear_forward(A_prev, W, b)\n",
        "        A = relu(Z)\n",
        "        cache = (A_prev, W, b, Z) # Fixed: Properly indented this line to be within the loop\n",
        "        caches.append(cache)\n",
        "    # Output layer\n",
        "    W_out = parameters['W' + str(L)]\n",
        "    b_out = parameters['b' + str(L)]\n",
        "    Z_out = linear_forward(A, W_out, b_out)\n",
        "    AL = Z_out\n",
        "    return AL, caches\n",
        "# Example execution\n",
        "X = df[['cgpa', 'profile_score']].values[0].reshape(2, 1)\n",
        "parameters = initialize_parameters([2, 2, 1])\n",
        "y_hat, caches = L_layer_forward(X, parameters)\n",
        "print(\"Final output:\")\n",
        "print(y_hat)"
      ]
    },
    {
      "cell_type": "code",
      "source": [
        "import numpy as np\n",
        "import pandas as pd\n",
        "#creating a data set\n",
        "data={\n",
        "    'cgpa': [8.5,7.2,9.1,6.8,7.5,8,7.9,8.3,6.5,9],\n",
        "    '10th score': [85,78,90,70,75,80,79,83,65,92],\n",
        "    '12th score': [88,74,92,65,78,81,77,85,60,95],\n",
        "    'IQ': [120,110,130,105,115,118,113,125,100,135],\n",
        "    'placement' :[1,0,1,0,0,1,1,1,0,1]\n",
        "\n",
        "}\n",
        "df =pd.DataFrame(data)\n",
        "\n",
        "#initializing parameters\n",
        "def initialize_parameters(layer_dims):\n",
        "  np.random.seed(3)\n",
        "  print(\"Layer Dimensions:\",layer_dims)\n",
        "  parameters = {}\n",
        "  L=len(layer_dims)\n",
        "  print(\"total No. of layer in NN\",L)\n",
        "  for i in range(1,L):\n",
        "    parameters['w' + str(i)] =np.ones((layer_dims[i-1],layer_dims[i]))*0.1\n",
        "    parameters['b' + str(i)] =np.zeros((layer_dims[i],1))\n",
        "  return parameters # Moved the return statement outside the loop\n",
        "\n",
        "#forward propagation\n",
        "def linear_forward(A_prev,W,b):\n",
        "  z =np.dot(W.T,A_prev) + b\n",
        "  return z\n",
        "\n",
        "def relu (z):\n",
        "  return np.maximum(0,z)\n",
        "\n",
        "def L_layer_forward(x,parameters):\n",
        "  A = x\n",
        "  caches = []\n",
        "  print(\"\\n\",parameters)\n",
        "  L =len(parameters) // 2\n",
        "  for i in range(1,L):\n",
        "    A_prev = A\n",
        "    W = parameters['w' + str(i)]\n",
        "    b = parameters['b' + str(i)]\n",
        "    Z = linear_forward(A_prev, W, b)\n",
        "    A = relu(Z)\n",
        "    cache = (A_prev, W, b, Z)\n",
        "    caches.append(cache)\n",
        "  # Output layer\n",
        "  W_out = parameters['w' + str(L)]\n",
        "  b_out = parameters['b' + str(L)]\n",
        "  Z_out = linear_forward(A, W_out, b_out)\n",
        "  AL = Z_out\n",
        "  return AL, caches\n",
        "\n",
        "\n",
        "# Example execution (updated for the new dataset)\n",
        "X = df[['cgpa', '10th score', '12th score', 'IQ']].values[0].reshape(4, 1)  # Changed to 4 features\n",
        "layer_dims = [4, 2, 1]  # Updated layer dimensions: 4 input features, 2 hidden neurons, 1 output\n",
        "parameters = initialize_parameters(layer_dims)\n",
        "y_hat, caches = L_layer_forward(X,parameters)\n",
        "print(\"Final output:\")\n",
        "print(y_hat)"
      ],
      "metadata": {
        "colab": {
          "base_uri": "https://localhost:8080/"
        },
        "id": "3QWUgwzKTzKb",
        "outputId": "7cd278db-33a1-4399-cc54-458c7b603849"
      },
      "execution_count": null,
      "outputs": [
        {
          "output_type": "stream",
          "name": "stdout",
          "text": [
            "Layer Dimensions: [4, 2, 1]\n",
            "total No. of layer in NN 3\n",
            "\n",
            " {'w1': array([[0.1, 0.1],\n",
            "       [0.1, 0.1],\n",
            "       [0.1, 0.1],\n",
            "       [0.1, 0.1]]), 'b1': array([[0.],\n",
            "       [0.]]), 'w2': array([[0.1],\n",
            "       [0.1]]), 'b2': array([[0.]])}\n",
            "Final output:\n",
            "[[6.03]]\n"
          ]
        }
      ]
    }
  ]
}