{
  "nbformat": 4,
  "nbformat_minor": 0,
  "metadata": {
    "colab": {
      "provenance": [],
      "authorship_tag": "ABX9TyPi/hN0bNAXblrO1NQJjOtB",
      "include_colab_link": true
    },
    "kernelspec": {
      "name": "python3",
      "display_name": "Python 3"
    },
    "language_info": {
      "name": "python"
    }
  },
  "cells": [
    {
      "cell_type": "markdown",
      "metadata": {
        "id": "view-in-github",
        "colab_type": "text"
      },
      "source": [
        "<a href=\"https://colab.research.google.com/github/divyaraut17/ANN/blob/main/Exp_4a.ipynb\" target=\"_parent\"><img src=\"https://colab.research.google.com/assets/colab-badge.svg\" alt=\"Open In Colab\"/></a>"
      ]
    },
    {
      "cell_type": "code",
      "execution_count": null,
      "metadata": {
        "colab": {
          "base_uri": "https://localhost:8080/"
        },
        "id": "dIUnmIxPiMb4",
        "outputId": "c4f7fd24-d013-47f0-bdc1-38297d57658d"
      },
      "outputs": [
        {
          "output_type": "stream",
          "name": "stdout",
          "text": [
            "final weight: [-0.01835983  0.02212054  0.05535959]\n",
            "final bias: [0.48977054]\n",
            "final error: [-0.51029243  0.02066632 -0.4549301 ]\n",
            "final output: [1]\n"
          ]
        }
      ],
      "source": [
        "import numpy as np\n",
        "\n",
        "Email=\"i want dress on discount\"\n",
        "count=0\n",
        "spam_score = 0\n",
        "\n",
        "for i in Email:\n",
        "    if(i.isupper()):\n",
        "        count=count+1\n",
        "\n",
        "no_of_capital_letters=count\n",
        "\n",
        "if(len(Email)<40):\n",
        "    length=len(Email)\n",
        "else:\n",
        "    length=0\n",
        "\n",
        "spam_words = [\"buy\", \"cheap\", \"discount\", \"offer\", \"win\"]\n",
        "for word in spam_words:\n",
        "  if word in Email.lower():\n",
        "      spam_score += 1\n",
        "      break\n",
        "\n",
        "x = np.array([no_of_capital_letters, length, spam_score])\n",
        "y = np.array([1 if (spam_score>0 or no_of_capital_letters>0 or length==0) else 0])\n",
        "\n",
        "w=np.random.rand(3)\n",
        "b=np.random.rand(1)\n",
        "\n",
        "learning_rate=0.0001\n",
        "iteration=1000\n",
        "\n",
        "for i in range(iteration):\n",
        "\n",
        "    y_predicted = w* x + b\n",
        "    error=y_predicted - y\n",
        "\n",
        "    dw=(2/len(x) * np.sum(error * x))\n",
        "    db=(2/len(x) * np.sum(error))\n",
        "\n",
        "    w = w - learning_rate * dw\n",
        "    b = b - learning_rate * db\n",
        "\n",
        "print(f'final weight: {w}')\n",
        "print(f'final bias: {b}')\n",
        "print(f'final error: {error}')\n",
        "print(f'final output: {y}')"
      ]
    }
  ]
}