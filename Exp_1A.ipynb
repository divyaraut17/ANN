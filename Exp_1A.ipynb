{
  "nbformat": 4,
  "nbformat_minor": 0,
  "metadata": {
    "colab": {
      "provenance": [],
      "authorship_tag": "ABX9TyOapsIiu5vjbRPPPnRpGpb5",
      "include_colab_link": true
    },
    "kernelspec": {
      "name": "python3",
      "display_name": "Python 3"
    },
    "language_info": {
      "name": "python"
    }
  },
  "cells": [
    {
      "cell_type": "markdown",
      "metadata": {
        "id": "view-in-github",
        "colab_type": "text"
      },
      "source": [
        "<a href=\"https://colab.research.google.com/github/divyaraut17/ANN/blob/main/Exp_1A.ipynb\" target=\"_parent\"><img src=\"https://colab.research.google.com/assets/colab-badge.svg\" alt=\"Open In Colab\"/></a>"
      ]
    },
    {
      "cell_type": "code",
      "execution_count": null,
      "metadata": {
        "id": "3Fudhx73hxao",
        "colab": {
          "base_uri": "https://localhost:8080/"
        },
        "outputId": "7ef1ee29-1c32-462c-d02d-8ff7122363b6"
      },
      "outputs": [
        {
          "output_type": "stream",
          "name": "stdout",
          "text": [
            "This email is Spam.\n"
          ]
        }
      ],
      "source": [
        "def spam_filter(email_features, weights, bias, threshold):\n",
        "\n",
        "    weighted_sum = 0\n",
        "    for i in range(len(email_features)):\n",
        "        weighted_sum += email_features[i] * weights[i]\n",
        "\n",
        "    # Add the bias\n",
        "    weighted_sum += bias\n",
        "\n",
        "    # Apply the step activation function\n",
        "    if weighted_sum > threshold:\n",
        "        return 1  # Spam\n",
        "    else:\n",
        "        return 0  # Not Spam\n",
        "\n",
        "\n",
        "\n",
        "email_features = [3, 1, 0.4]  # Example email features: [3 spam keywords, 1 suspicious link, 0.4 sender reputation]\n",
        "weights = [0.7, 1.0, -0.5]    # Weights for each feature\n",
        "bias = -1.0                   # Bias term\n",
        "threshold = 0                 # Threshold for spam classification\n",
        "\n",
        "# Get the prediction (1 = Spam, 0 = Not Spam)\n",
        "output = spam_filter(email_features, weights, bias, threshold)\n",
        "\n",
        "# Output\n",
        "if output == 1:\n",
        "    print(\"This email is Spam.\")\n",
        "else:\n",
        "    print(\"This email is Not Spam.\")"
      ]
    },
    {
      "cell_type": "code",
      "source": [
        "import numpy as np\n",
        "\n",
        "def recommend_item(user_preferences, item_features, threshold):\n",
        "\n",
        "    similarity_score = 0\n",
        "    for i in range(len(user_preferences)):\n",
        "        similarity_score += user_preferences[i] * item_features[i]\n",
        "\n",
        "    if similarity_score >= threshold:\n",
        "        return 1  # Recommend\n",
        "    else:\n",
        "        return 0  # Don't recommend\n",
        "\n",
        "# Example usage:\n",
        "user_preferences = [1, 1, 1]\n",
        "item_features = [1, 1, 0]\n",
        "threshold = 2\n",
        "\n",
        "recommendation = recommend_item(user_preferences, item_features, threshold)\n",
        "\n",
        "if recommendation == 1:\n",
        "    print(\"This item is recommended.\")\n",
        "else:\n",
        "    print(\"This item is not recommended.\")"
      ],
      "metadata": {
        "colab": {
          "base_uri": "https://localhost:8080/"
        },
        "id": "On98pA2a8spQ",
        "outputId": "a10d437c-5b3b-45c5-de4a-617c7f44b364"
      },
      "execution_count": null,
      "outputs": [
        {
          "output_type": "stream",
          "name": "stdout",
          "text": [
            "This item is recommended.\n"
          ]
        }
      ]
    },
    {
      "cell_type": "code",
      "source": [
        "import numpy as np\n",
        "\n",
        "def sigmoid(x):\n",
        "    return 1 / (1 + np.exp(-x))\n",
        "\n",
        "def predict(features, weights1, bias1, weights2, bias2):\n",
        "    hidden_layer_output = sigmoid(np.dot(features, weights1) + bias1)\n",
        "    output_layer_output = sigmoid(np.dot(hidden_layer_output, weights2) + bias2)\n",
        "    return output_layer_output\n",
        "\n",
        "# Initialize random weights and biases for a neural network with\n",
        "# 3 input features (whiskers, pointed ears, feline eyes),\n",
        "# 4 hidden units, and 1 output unit (cat or not cat)\n",
        "input_size = 3\n",
        "hidden_size = 4\n",
        "output_size = 1\n",
        "\n",
        "weights1 = np.random.randn(input_size, hidden_size)\n",
        "bias1 = np.random.randn(hidden_size)\n",
        "weights2 = np.random.randn(hidden_size, output_size)\n",
        "bias2 = np.random.randn(output_size)\n",
        "\n",
        "# Example image with cat features:\n",
        "# [0.8, 0.9, 0.7] represents prominent whiskers, pointed ears, and cat-like eyes\n",
        "image_features = [0.8, 0.9, 0.7]\n",
        "\n",
        "# Make a prediction using the neural network\n",
        "prediction = predict(image_features, weights1, bias1, weights2, bias2)\n",
        "\n",
        "# Apply threshold to get binary classification (cat or not cat)\n",
        "threshold = 0.4\n",
        "if prediction > threshold:\n",
        "    print(\"Cat detected!\")  # Output if prediction is above the threshold\n",
        "else:\n",
        "    print(\"Cat not detected.\")  # Output if prediction is below the threshold"
      ],
      "metadata": {
        "colab": {
          "base_uri": "https://localhost:8080/"
        },
        "id": "LfdfjO40-EH5",
        "outputId": "9ea3abed-ead4-4b81-ac50-70b11306d499"
      },
      "execution_count": null,
      "outputs": [
        {
          "output_type": "stream",
          "name": "stdout",
          "text": [
            "Cat detected!\n"
          ]
        }
      ]
    }
  ]
}