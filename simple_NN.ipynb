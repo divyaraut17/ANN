{
  "nbformat": 4,
  "nbformat_minor": 0,
  "metadata": {
    "colab": {
      "provenance": [],
      "authorship_tag": "ABX9TyPbglj3XukUlAN99SuWQAh/",
      "include_colab_link": true
    },
    "kernelspec": {
      "name": "python3",
      "display_name": "Python 3"
    },
    "language_info": {
      "name": "python"
    }
  },
  "cells": [
    {
      "cell_type": "markdown",
      "metadata": {
        "id": "view-in-github",
        "colab_type": "text"
      },
      "source": [
        "<a href=\"https://colab.research.google.com/github/divyaraut17/ANN/blob/main/simple_NN.ipynb\" target=\"_parent\"><img src=\"https://colab.research.google.com/assets/colab-badge.svg\" alt=\"Open In Colab\"/></a>"
      ]
    },
    {
      "cell_type": "code",
      "execution_count": null,
      "metadata": {
        "id": "_lgQqX_Dh9mL",
        "colab": {
          "base_uri": "https://localhost:8080/"
        },
        "outputId": "aa03d157-aa29-4736-c980-d9ab07c07818"
      },
      "outputs": [
        {
          "output_type": "stream",
          "name": "stdout",
          "text": [
            "output of the artificial neuron : 1\n"
          ]
        }
      ],
      "source": [
        "def artificial_neuron(inputs,weights,bias):\n",
        "    weighted_sum=0\n",
        "    for i in range(len(inputs)):\n",
        "     weighted_sum +=inputs[i] * weights[i]\n",
        "     weighted_sum += bias\n",
        "\n",
        "    output = 1 if weighted_sum > 0 else 0\n",
        "\n",
        "    return output\n",
        "\n",
        "inputs = [3, 6]\n",
        "weights= [0.8,0.5]\n",
        "bias= -1\n",
        "\n",
        "output = artificial_neuron(inputs,weights,bias)\n",
        "print(\"output of the artificial neuron :\",output)"
      ]
    },
    {
      "cell_type": "code",
      "source": [
        "#AND gate\n",
        "import numpy as np # Importing numpy for array operations\n",
        "\n",
        "def step_function(x):\n",
        "   if x>=0:\n",
        "     return 1\n",
        "   else:\n",
        "     return 0\n",
        "\n",
        "def artificial_neuron(x1,x2,weights,bias):\n",
        "    weighted_sum=weights[0] *x1 + weights[1] *x2 + bias\n",
        "    return step_function(weighted_sum)\n",
        "\n",
        "# Define weights and bias outside the function\n",
        "weights=np.array([1, 1])\n",
        "bias=-1.5\n",
        "\n",
        "# Define inputs outside the function\n",
        "inputs=[(0,0),(0,1),(1,0),(1,1)]\n",
        "\n",
        "# Iterate through inputs and print outputs\n",
        "for x1,x2 in inputs:\n",
        "    output = artificial_neuron(x1 ,x2,weights,bias)\n",
        "    print(f\"Input: ({x1},{x2})->output:{output}\")"
      ],
      "metadata": {
        "colab": {
          "base_uri": "https://localhost:8080/"
        },
        "id": "7CE1cES6wkQr",
        "outputId": "383ca4b5-efea-4ada-ad65-d472f2f8d5bd"
      },
      "execution_count": null,
      "outputs": [
        {
          "output_type": "stream",
          "name": "stdout",
          "text": [
            "Input: (0,0)->output:0\n",
            "Input: (0,1)->output:0\n",
            "Input: (1,0)->output:0\n",
            "Input: (1,1)->output:1\n"
          ]
        }
      ]
    },
    {
      "cell_type": "code",
      "source": [
        "#OR gate\n",
        "import numpy as np # Importing numpy for array operations\n",
        "\n",
        "def step_function(x):\n",
        "   if x>=0:\n",
        "     return 1\n",
        "   else:\n",
        "     return 0\n",
        "\n",
        "def artificial_neuron(x1,x2,weights,bias):\n",
        "    weighted_sum=weights[0] *x1 + weights[1] *x2 + bias\n",
        "    return step_function(weighted_sum)\n",
        "\n",
        "# Define weights and bias outside the function\n",
        "weights=np.array([2 , 2])\n",
        "bias=-1\n",
        "\n",
        "# Define inputs outside the function\n",
        "inputs=[(0,0),(0,1),(1,0),(1,1)]\n",
        "\n",
        "# Iterate through inputs and print outputs\n",
        "for x1,x2 in inputs:\n",
        "    output = artificial_neuron(x1 ,x2,weights,bias)\n",
        "    print(f\"Input: ({x1},{x2})->output:{output}\")"
      ],
      "metadata": {
        "colab": {
          "base_uri": "https://localhost:8080/"
        },
        "id": "SkwRhaZezmw0",
        "outputId": "0411257d-931c-4cfc-f72e-7373c6dd3f78"
      },
      "execution_count": null,
      "outputs": [
        {
          "output_type": "stream",
          "name": "stdout",
          "text": [
            "Input: (0,0)->output:0\n",
            "Input: (0,1)->output:1\n",
            "Input: (1,0)->output:1\n",
            "Input: (1,1)->output:1\n"
          ]
        }
      ]
    },
    {
      "cell_type": "code",
      "source": [
        "#NOT gate\n",
        "import numpy as np # Importing numpy for array operations\n",
        "\n",
        "def step_function(x):\n",
        "   if x>=0:\n",
        "     return 1\n",
        "   else:\n",
        "     return 0\n",
        "\n",
        "def artificial_neuron(x1,x2,weights,bias): #This function expects 4 arguments\n",
        "    weighted_sum=weights[0] *x1 + bias #But only uses x1, weights and bias\n",
        "    return step_function(weighted_sum)\n",
        "\n",
        "# Define weights and bias outside the function\n",
        "weights=np.array([-3])\n",
        "bias=1\n",
        "\n",
        "# Define inputs outside the function\n",
        "inputs=[0,1]\n",
        "\n",
        "# Iterate through inputs and print outputs\n",
        "for x1 in inputs:\n",
        "    output = artificial_neuron(x1 ,x2,weights,bias) # When calling the function, x2 is supplied but not used.\n",
        "    print(f\"Input: ({x1})->output:{output}\") #Only"
      ],
      "metadata": {
        "colab": {
          "base_uri": "https://localhost:8080/"
        },
        "id": "vE5j2yvU0SWz",
        "outputId": "3ecd0d02-8677-47db-fe2c-4f62c2b70bef"
      },
      "execution_count": null,
      "outputs": [
        {
          "output_type": "stream",
          "name": "stdout",
          "text": [
            "Input: (0)->output:1\n",
            "Input: (1)->output:0\n"
          ]
        }
      ]
    }
  ]
}